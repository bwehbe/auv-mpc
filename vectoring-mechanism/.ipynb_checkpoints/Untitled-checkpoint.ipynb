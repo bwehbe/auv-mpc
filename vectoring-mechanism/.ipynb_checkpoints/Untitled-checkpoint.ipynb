{
 "cells": [
  {
   "cell_type": "code",
   "execution_count": 2,
   "metadata": {},
   "outputs": [],
   "source": [
    "import numpy as np\n",
    "import matplotlib.pyplot as plt\n",
    "from math import sin, cos"
   ]
  },
  {
   "cell_type": "code",
   "execution_count": 9,
   "metadata": {},
   "outputs": [],
   "source": [
    "def calc_inverse(yaw, pitch):\n",
    "    RotMat_x = np.array([[1.0,        0.0,        0.0],\n",
    "                         [0.0,  cos(yaw), -sin(yaw)],\n",
    "                         [0.0,  sin(yaw),  cos(yaw)]]) \n",
    "\n",
    "    RotMat_y = np.array([[cos(pitch),  0.0, sin(pitch)],\n",
    "                         [0.0,         1.0,        0.0],\n",
    "                         [-sin(pitch), 0.0, cos(pitch)]])\n",
    "    RotMat = RotMat_x.dot(RotMat_y)\n",
    "    \n",
    "    e1_ee = np.array([-0.162, 0.0935, 0.0375])\n",
    "    e2_ee = np.array([-0.162, -0.0935, 0.0375])\n",
    "    b1 = np.array([-0.1399, 0.0625, -0.3547])\n",
    "    b2 = np.array([-0.1399, -0.0625, -0.3547])\n",
    "    \n",
    "    e1 = RotMat.dot(e1_ee)\n",
    "    e2 = RotMat.dot(e2_ee)\n",
    "    \n",
    "    b1e1 = e1 - b1\n",
    "    b2e2 = e2 - b2\n",
    "    \n",
    "    mid_pt = 0.39404346206985846\n",
    "    offset = 0.06\n",
    "    d1 = np.linalg.norm(e1-b1)-mid_pt + offset\n",
    "    d2 = np.linalg.norm(e2-b2)-mid_pt + offset\n",
    "    return (d1,d2)"
   ]
  },
  {
   "cell_type": "code",
   "execution_count": 22,
   "metadata": {},
   "outputs": [],
   "source": [
    "calc_inverse(0.0,0.0)\n",
    "\n",
    "X = np.arange(-np.pi/9, np.pi/9, 0.01)\n",
    "Y = np.arange(-np.pi/9, np.pi/9, 0.01)\n",
    "Z1 = np.empty([X.shape[0],Y.shape[0]])\n",
    "Z2 = np.empty([X.shape[0],Y.shape[0]])\n",
    "for i,x in enumerate(X):\n",
    "    for j,y in enumerate(Y):\n",
    "        Z1[i,j],Z2[i,j] = calc_inverse(x,y)"
   ]
  },
  {
   "cell_type": "code",
   "execution_count": 21,
   "metadata": {},
   "outputs": [
    {
     "data": {
      "text/plain": [
       "(70, 70)"
      ]
     },
     "execution_count": 21,
     "metadata": {},
     "output_type": "execute_result"
    }
   ],
   "source": [
    "X, Y = np.meshgrid(X, Y)"
   ]
  },
  {
   "cell_type": "markdown",
   "metadata": {},
   "source": [
    "# "
   ]
  }
 ],
 "metadata": {
  "kernelspec": {
   "display_name": "Python 3",
   "language": "python",
   "name": "python3"
  },
  "language_info": {
   "codemirror_mode": {
    "name": "ipython",
    "version": 3
   },
   "file_extension": ".py",
   "mimetype": "text/x-python",
   "name": "python",
   "nbconvert_exporter": "python",
   "pygments_lexer": "ipython3",
   "version": "3.6.9"
  }
 },
 "nbformat": 4,
 "nbformat_minor": 4
}

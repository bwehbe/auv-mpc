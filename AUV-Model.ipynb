{
 "cells": [
  {
   "cell_type": "markdown",
   "id": "ee22b42e",
   "metadata": {},
   "source": [
    "## AUV Modeling"
   ]
  },
  {
   "cell_type": "markdown",
   "id": "27202e02",
   "metadata": {},
   "source": [
    "The equations of Motion are written as \n",
    "$$\\tau= M\\dot{v} + C(v)v +  d(v) + b(\\Theta)\n",
    "$$\n",
    "\n",
    "where\n",
    "- $M$ is the inertia matrix\n",
    "- $C(v)v$ are the coriolis effects\n",
    "- $d(v)$ are the damping effects\n",
    "- $b(\\Theta)$ are the restoring effects due to buoyancy"
   ]
  },
  {
   "cell_type": "code",
   "execution_count": 1,
   "id": "64118e15",
   "metadata": {
    "scrolled": false
   },
   "outputs": [
    {
     "data": {
      "text/latex": [
       "$\\displaystyle \\left[\\begin{matrix}q_{w}^{2} + q_{x}^{2} - q_{y}^{2} - q_{z}^{2} & - 2 q_{w} q_{z} + 2 q_{x} q_{y} & 2 q_{w} q_{y} + 2 q_{x} q_{z}\\\\2 q_{w} q_{z} + 2 q_{x} q_{y} & q_{w}^{2} - q_{x}^{2} + q_{y}^{2} - q_{z}^{2} & - 2 q_{w} q_{x} + 2 q_{y} q_{z}\\\\- 2 q_{w} q_{y} + 2 q_{x} q_{z} & 2 q_{w} q_{x} + 2 q_{y} q_{z} & q_{w}^{2} - q_{x}^{2} - q_{y}^{2} + q_{z}^{2}\\end{matrix}\\right]$"
      ],
      "text/plain": [
       "Matrix([\n",
       "[q_w**2 + q_x**2 - q_y**2 - q_z**2,            -2*q_w*q_z + 2*q_x*q_y,             2*q_w*q_y + 2*q_x*q_z],\n",
       "[            2*q_w*q_z + 2*q_x*q_y, q_w**2 - q_x**2 + q_y**2 - q_z**2,            -2*q_w*q_x + 2*q_y*q_z],\n",
       "[           -2*q_w*q_y + 2*q_x*q_z,             2*q_w*q_x + 2*q_y*q_z, q_w**2 - q_x**2 - q_y**2 + q_z**2]])"
      ]
     },
     "metadata": {},
     "output_type": "display_data"
    },
    {
     "data": {
      "text/latex": [
       "$\\displaystyle \\left[\\begin{matrix}M_{11} & M_{12} & M_{13} & M_{14} & M_{15} & M_{16}\\\\M_{21} & M_{22} & M_{23} & M_{24} & M_{25} & M_{26}\\\\M_{31} & M_{32} & M_{33} & M_{34} & M_{35} & M_{36}\\\\M_{41} & M_{42} & M_{43} & M_{44} & M_{45} & M_{46}\\\\M_{51} & M_{52} & M_{53} & M_{54} & M_{55} & M_{56}\\\\M_{61} & M_{62} & M_{63} & M_{64} & M_{65} & M_{66}\\end{matrix}\\right]$"
      ],
      "text/plain": [
       "Matrix([\n",
       "[M_11, M_12, M_13, M_14, M_15, M_16],\n",
       "[M_21, M_22, M_23, M_24, M_25, M_26],\n",
       "[M_31, M_32, M_33, M_34, M_35, M_36],\n",
       "[M_41, M_42, M_43, M_44, M_45, M_46],\n",
       "[M_51, M_52, M_53, M_54, M_55, M_56],\n",
       "[M_61, M_62, M_63, M_64, M_65, M_66]])"
      ]
     },
     "metadata": {},
     "output_type": "display_data"
    },
    {
     "name": "stdout",
     "output_type": "stream",
     "text": [
      "Mass*acc:\n"
     ]
    },
    {
     "data": {
      "text/latex": [
       "$\\displaystyle \\left[\\begin{matrix}M_{11} \\dot{v_x} + M_{12} \\dot{v_y} + M_{13} \\dot{v_z} + M_{14} \\dot{w_x} + M_{15} \\dot{w_y} + M_{16} \\dot{w_z}\\\\M_{21} \\dot{v_x} + M_{22} \\dot{v_y} + M_{23} \\dot{v_z} + M_{24} \\dot{w_x} + M_{25} \\dot{w_y} + M_{26} \\dot{w_z}\\\\M_{31} \\dot{v_x} + M_{32} \\dot{v_y} + M_{33} \\dot{v_z} + M_{34} \\dot{w_x} + M_{35} \\dot{w_y} + M_{36} \\dot{w_z}\\\\M_{41} \\dot{v_x} + M_{42} \\dot{v_y} + M_{43} \\dot{v_z} + M_{44} \\dot{w_x} + M_{45} \\dot{w_y} + M_{46} \\dot{w_z}\\\\M_{51} \\dot{v_x} + M_{52} \\dot{v_y} + M_{53} \\dot{v_z} + M_{54} \\dot{w_x} + M_{55} \\dot{w_y} + M_{56} \\dot{w_z}\\\\M_{61} \\dot{v_x} + M_{62} \\dot{v_y} + M_{63} \\dot{v_z} + M_{64} \\dot{w_x} + M_{65} \\dot{w_y} + M_{66} \\dot{w_z}\\end{matrix}\\right]$"
      ],
      "text/plain": [
       "Matrix([\n",
       "[M_11*\\dot{v_x} + M_12*\\dot{v_y} + M_13*\\dot{v_z} + M_14*\\dot{w_x} + M_15*\\dot{w_y} + M_16*\\dot{w_z}],\n",
       "[M_21*\\dot{v_x} + M_22*\\dot{v_y} + M_23*\\dot{v_z} + M_24*\\dot{w_x} + M_25*\\dot{w_y} + M_26*\\dot{w_z}],\n",
       "[M_31*\\dot{v_x} + M_32*\\dot{v_y} + M_33*\\dot{v_z} + M_34*\\dot{w_x} + M_35*\\dot{w_y} + M_36*\\dot{w_z}],\n",
       "[M_41*\\dot{v_x} + M_42*\\dot{v_y} + M_43*\\dot{v_z} + M_44*\\dot{w_x} + M_45*\\dot{w_y} + M_46*\\dot{w_z}],\n",
       "[M_51*\\dot{v_x} + M_52*\\dot{v_y} + M_53*\\dot{v_z} + M_54*\\dot{w_x} + M_55*\\dot{w_y} + M_56*\\dot{w_z}],\n",
       "[M_61*\\dot{v_x} + M_62*\\dot{v_y} + M_63*\\dot{v_z} + M_64*\\dot{w_x} + M_65*\\dot{w_y} + M_66*\\dot{w_z}]])"
      ]
     },
     "metadata": {},
     "output_type": "display_data"
    },
    {
     "name": "stdout",
     "output_type": "stream",
     "text": [
      "Coriolis matrix:\n"
     ]
    },
    {
     "data": {
      "text/latex": [
       "$\\displaystyle \\left[\\begin{matrix}0 & 0 & 0 & 0 & M_{31} v_{x} + M_{32} v_{y} + M_{33} v_{z} + M_{34} w_{x} + M_{35} w_{y} + M_{36} w_{z} & - M_{21} v_{x} - M_{22} v_{y} - M_{23} v_{z} - M_{24} w_{x} - M_{25} w_{y} - M_{26} w_{z}\\\\0 & 0 & 0 & - M_{31} v_{x} - M_{32} v_{y} - M_{33} v_{z} - M_{34} w_{x} - M_{35} w_{y} - M_{36} w_{z} & 0 & M_{11} v_{x} + M_{12} v_{y} + M_{13} v_{z} + M_{14} w_{x} + M_{15} w_{y} + M_{16} w_{z}\\\\0 & 0 & 0 & M_{21} v_{x} + M_{22} v_{y} + M_{23} v_{z} + M_{24} w_{x} + M_{25} w_{y} + M_{26} w_{z} & - M_{11} v_{x} - M_{12} v_{y} - M_{13} v_{z} - M_{14} w_{x} - M_{15} w_{y} - M_{16} w_{z} & 0\\\\0 & M_{31} v_{x} + M_{32} v_{y} + M_{33} v_{z} + M_{34} w_{x} + M_{35} w_{y} + M_{36} w_{z} & - M_{21} v_{x} - M_{22} v_{y} - M_{23} v_{z} - M_{24} w_{x} - M_{25} w_{y} - M_{26} w_{z} & 0 & M_{61} v_{x} + M_{62} v_{y} + M_{63} v_{z} + M_{64} w_{x} + M_{65} w_{y} + M_{66} w_{z} & - M_{51} v_{x} - M_{52} v_{y} - M_{53} v_{z} - M_{54} w_{x} - M_{55} w_{y} - M_{56} w_{z}\\\\- M_{31} v_{x} - M_{32} v_{y} - M_{33} v_{z} - M_{34} w_{x} - M_{35} w_{y} - M_{36} w_{z} & 0 & M_{11} v_{x} + M_{12} v_{y} + M_{13} v_{z} + M_{14} w_{x} + M_{15} w_{y} + M_{16} w_{z} & - M_{61} v_{x} - M_{62} v_{y} - M_{63} v_{z} - M_{64} w_{x} - M_{65} w_{y} - M_{66} w_{z} & 0 & M_{41} v_{x} + M_{42} v_{y} + M_{43} v_{z} + M_{44} w_{x} + M_{45} w_{y} + M_{46} w_{z}\\\\M_{21} v_{x} + M_{22} v_{y} + M_{23} v_{z} + M_{24} w_{x} + M_{25} w_{y} + M_{26} w_{z} & - M_{11} v_{x} - M_{12} v_{y} - M_{13} v_{z} - M_{14} w_{x} - M_{15} w_{y} - M_{16} w_{z} & 0 & M_{51} v_{x} + M_{52} v_{y} + M_{53} v_{z} + M_{54} w_{x} + M_{55} w_{y} + M_{56} w_{z} & - M_{41} v_{x} - M_{42} v_{y} - M_{43} v_{z} - M_{44} w_{x} - M_{45} w_{y} - M_{46} w_{z} & 0\\end{matrix}\\right]$"
      ],
      "text/plain": [
       "Matrix([\n",
       "[                                                               0,                                                                0,                                                                0,                                                                0,  M_31*v_x + M_32*v_y + M_33*v_z + M_34*w_x + M_35*w_y + M_36*w_z, -M_21*v_x - M_22*v_y - M_23*v_z - M_24*w_x - M_25*w_y - M_26*w_z],\n",
       "[                                                               0,                                                                0,                                                                0, -M_31*v_x - M_32*v_y - M_33*v_z - M_34*w_x - M_35*w_y - M_36*w_z,                                                                0,  M_11*v_x + M_12*v_y + M_13*v_z + M_14*w_x + M_15*w_y + M_16*w_z],\n",
       "[                                                               0,                                                                0,                                                                0,  M_21*v_x + M_22*v_y + M_23*v_z + M_24*w_x + M_25*w_y + M_26*w_z, -M_11*v_x - M_12*v_y - M_13*v_z - M_14*w_x - M_15*w_y - M_16*w_z,                                                                0],\n",
       "[                                                               0,  M_31*v_x + M_32*v_y + M_33*v_z + M_34*w_x + M_35*w_y + M_36*w_z, -M_21*v_x - M_22*v_y - M_23*v_z - M_24*w_x - M_25*w_y - M_26*w_z,                                                                0,  M_61*v_x + M_62*v_y + M_63*v_z + M_64*w_x + M_65*w_y + M_66*w_z, -M_51*v_x - M_52*v_y - M_53*v_z - M_54*w_x - M_55*w_y - M_56*w_z],\n",
       "[-M_31*v_x - M_32*v_y - M_33*v_z - M_34*w_x - M_35*w_y - M_36*w_z,                                                                0,  M_11*v_x + M_12*v_y + M_13*v_z + M_14*w_x + M_15*w_y + M_16*w_z, -M_61*v_x - M_62*v_y - M_63*v_z - M_64*w_x - M_65*w_y - M_66*w_z,                                                                0,  M_41*v_x + M_42*v_y + M_43*v_z + M_44*w_x + M_45*w_y + M_46*w_z],\n",
       "[ M_21*v_x + M_22*v_y + M_23*v_z + M_24*w_x + M_25*w_y + M_26*w_z, -M_11*v_x - M_12*v_y - M_13*v_z - M_14*w_x - M_15*w_y - M_16*w_z,                                                                0,  M_51*v_x + M_52*v_y + M_53*v_z + M_54*w_x + M_55*w_y + M_56*w_z, -M_41*v_x - M_42*v_y - M_43*v_z - M_44*w_x - M_45*w_y - M_46*w_z,                                                                0]])"
      ]
     },
     "metadata": {},
     "output_type": "display_data"
    },
    {
     "name": "stdout",
     "output_type": "stream",
     "text": [
      "Coriolis effect:\n"
     ]
    },
    {
     "data": {
      "text/latex": [
       "$\\displaystyle \\left[\\begin{matrix}w_{y} \\left(M_{31} v_{x} + M_{32} v_{y} + M_{33} v_{z} + M_{34} w_{x} + M_{35} w_{y} + M_{36} w_{z}\\right) + w_{z} \\left(- M_{21} v_{x} - M_{22} v_{y} - M_{23} v_{z} - M_{24} w_{x} - M_{25} w_{y} - M_{26} w_{z}\\right)\\\\w_{x} \\left(- M_{31} v_{x} - M_{32} v_{y} - M_{33} v_{z} - M_{34} w_{x} - M_{35} w_{y} - M_{36} w_{z}\\right) + w_{z} \\left(M_{11} v_{x} + M_{12} v_{y} + M_{13} v_{z} + M_{14} w_{x} + M_{15} w_{y} + M_{16} w_{z}\\right)\\\\w_{x} \\left(M_{21} v_{x} + M_{22} v_{y} + M_{23} v_{z} + M_{24} w_{x} + M_{25} w_{y} + M_{26} w_{z}\\right) + w_{y} \\left(- M_{11} v_{x} - M_{12} v_{y} - M_{13} v_{z} - M_{14} w_{x} - M_{15} w_{y} - M_{16} w_{z}\\right)\\\\v_{y} \\left(M_{31} v_{x} + M_{32} v_{y} + M_{33} v_{z} + M_{34} w_{x} + M_{35} w_{y} + M_{36} w_{z}\\right) + v_{z} \\left(- M_{21} v_{x} - M_{22} v_{y} - M_{23} v_{z} - M_{24} w_{x} - M_{25} w_{y} - M_{26} w_{z}\\right) + w_{y} \\left(M_{61} v_{x} + M_{62} v_{y} + M_{63} v_{z} + M_{64} w_{x} + M_{65} w_{y} + M_{66} w_{z}\\right) + w_{z} \\left(- M_{51} v_{x} - M_{52} v_{y} - M_{53} v_{z} - M_{54} w_{x} - M_{55} w_{y} - M_{56} w_{z}\\right)\\\\v_{x} \\left(- M_{31} v_{x} - M_{32} v_{y} - M_{33} v_{z} - M_{34} w_{x} - M_{35} w_{y} - M_{36} w_{z}\\right) + v_{z} \\left(M_{11} v_{x} + M_{12} v_{y} + M_{13} v_{z} + M_{14} w_{x} + M_{15} w_{y} + M_{16} w_{z}\\right) + w_{x} \\left(- M_{61} v_{x} - M_{62} v_{y} - M_{63} v_{z} - M_{64} w_{x} - M_{65} w_{y} - M_{66} w_{z}\\right) + w_{z} \\left(M_{41} v_{x} + M_{42} v_{y} + M_{43} v_{z} + M_{44} w_{x} + M_{45} w_{y} + M_{46} w_{z}\\right)\\\\v_{x} \\left(M_{21} v_{x} + M_{22} v_{y} + M_{23} v_{z} + M_{24} w_{x} + M_{25} w_{y} + M_{26} w_{z}\\right) + v_{y} \\left(- M_{11} v_{x} - M_{12} v_{y} - M_{13} v_{z} - M_{14} w_{x} - M_{15} w_{y} - M_{16} w_{z}\\right) + w_{x} \\left(M_{51} v_{x} + M_{52} v_{y} + M_{53} v_{z} + M_{54} w_{x} + M_{55} w_{y} + M_{56} w_{z}\\right) + w_{y} \\left(- M_{41} v_{x} - M_{42} v_{y} - M_{43} v_{z} - M_{44} w_{x} - M_{45} w_{y} - M_{46} w_{z}\\right)\\end{matrix}\\right]$"
      ],
      "text/plain": [
       "Matrix([\n",
       "[                                                                                                                                                 w_y*(M_31*v_x + M_32*v_y + M_33*v_z + M_34*w_x + M_35*w_y + M_36*w_z) + w_z*(-M_21*v_x - M_22*v_y - M_23*v_z - M_24*w_x - M_25*w_y - M_26*w_z)],\n",
       "[                                                                                                                                                 w_x*(-M_31*v_x - M_32*v_y - M_33*v_z - M_34*w_x - M_35*w_y - M_36*w_z) + w_z*(M_11*v_x + M_12*v_y + M_13*v_z + M_14*w_x + M_15*w_y + M_16*w_z)],\n",
       "[                                                                                                                                                 w_x*(M_21*v_x + M_22*v_y + M_23*v_z + M_24*w_x + M_25*w_y + M_26*w_z) + w_y*(-M_11*v_x - M_12*v_y - M_13*v_z - M_14*w_x - M_15*w_y - M_16*w_z)],\n",
       "[v_y*(M_31*v_x + M_32*v_y + M_33*v_z + M_34*w_x + M_35*w_y + M_36*w_z) + v_z*(-M_21*v_x - M_22*v_y - M_23*v_z - M_24*w_x - M_25*w_y - M_26*w_z) + w_y*(M_61*v_x + M_62*v_y + M_63*v_z + M_64*w_x + M_65*w_y + M_66*w_z) + w_z*(-M_51*v_x - M_52*v_y - M_53*v_z - M_54*w_x - M_55*w_y - M_56*w_z)],\n",
       "[v_x*(-M_31*v_x - M_32*v_y - M_33*v_z - M_34*w_x - M_35*w_y - M_36*w_z) + v_z*(M_11*v_x + M_12*v_y + M_13*v_z + M_14*w_x + M_15*w_y + M_16*w_z) + w_x*(-M_61*v_x - M_62*v_y - M_63*v_z - M_64*w_x - M_65*w_y - M_66*w_z) + w_z*(M_41*v_x + M_42*v_y + M_43*v_z + M_44*w_x + M_45*w_y + M_46*w_z)],\n",
       "[v_x*(M_21*v_x + M_22*v_y + M_23*v_z + M_24*w_x + M_25*w_y + M_26*w_z) + v_y*(-M_11*v_x - M_12*v_y - M_13*v_z - M_14*w_x - M_15*w_y - M_16*w_z) + w_x*(M_51*v_x + M_52*v_y + M_53*v_z + M_54*w_x + M_55*w_y + M_56*w_z) + w_y*(-M_41*v_x - M_42*v_y - M_43*v_z - M_44*w_x - M_45*w_y - M_46*w_z)]])"
      ]
     },
     "metadata": {},
     "output_type": "display_data"
    },
    {
     "name": "stdout",
     "output_type": "stream",
     "text": [
      "Damping:\n"
     ]
    },
    {
     "data": {
      "text/latex": [
       "$\\displaystyle \\left[\\begin{matrix}v_{x} \\left(Dl_{11} + Dp_{11} \\left|{w_{x}}\\right| + Dq_{11} \\left|{w_{y}}\\right| + Dr_{11} \\left|{w_{z}}\\right| + Du_{11} \\left|{v_{x}}\\right| + Dv_{11} \\left|{v_{y}}\\right| + Dw_{11} \\left|{v_{z}}\\right|\\right) + v_{y} \\left(Dl_{12} + Dp_{12} \\left|{w_{x}}\\right| + Dq_{12} \\left|{w_{y}}\\right| + Dr_{12} \\left|{w_{z}}\\right| + Du_{12} \\left|{v_{x}}\\right| + Dv_{12} \\left|{v_{y}}\\right| + Dw_{12} \\left|{v_{z}}\\right|\\right) + v_{z} \\left(Dl_{13} + Dp_{13} \\left|{w_{x}}\\right| + Dq_{13} \\left|{w_{y}}\\right| + Dr_{13} \\left|{w_{z}}\\right| + Du_{13} \\left|{v_{x}}\\right| + Dv_{13} \\left|{v_{y}}\\right| + Dw_{13} \\left|{v_{z}}\\right|\\right) + w_{x} \\left(Dl_{14} + Dp_{14} \\left|{w_{x}}\\right| + Dq_{14} \\left|{w_{y}}\\right| + Dr_{14} \\left|{w_{z}}\\right| + Du_{14} \\left|{v_{x}}\\right| + Dv_{14} \\left|{v_{y}}\\right| + Dw_{14} \\left|{v_{z}}\\right|\\right) + w_{y} \\left(Dl_{15} + Dp_{15} \\left|{w_{x}}\\right| + Dq_{15} \\left|{w_{y}}\\right| + Dr_{15} \\left|{w_{z}}\\right| + Du_{15} \\left|{v_{x}}\\right| + Dv_{15} \\left|{v_{y}}\\right| + Dw_{15} \\left|{v_{z}}\\right|\\right) + w_{z} \\left(Dl_{16} + Dp_{16} \\left|{w_{x}}\\right| + Dq_{16} \\left|{w_{y}}\\right| + Dr_{16} \\left|{w_{z}}\\right| + Du_{16} \\left|{v_{x}}\\right| + Dv_{16} \\left|{v_{y}}\\right| + Dw_{16} \\left|{v_{z}}\\right|\\right)\\\\v_{x} \\left(Dl_{21} + Dp_{21} \\left|{w_{x}}\\right| + Dq_{21} \\left|{w_{y}}\\right| + Dr_{21} \\left|{w_{z}}\\right| + Du_{21} \\left|{v_{x}}\\right| + Dv_{21} \\left|{v_{y}}\\right| + Dw_{21} \\left|{v_{z}}\\right|\\right) + v_{y} \\left(Dl_{22} + Dp_{22} \\left|{w_{x}}\\right| + Dq_{22} \\left|{w_{y}}\\right| + Dr_{22} \\left|{w_{z}}\\right| + Du_{22} \\left|{v_{x}}\\right| + Dv_{22} \\left|{v_{y}}\\right| + Dw_{22} \\left|{v_{z}}\\right|\\right) + v_{z} \\left(Dl_{23} + Dp_{23} \\left|{w_{x}}\\right| + Dq_{23} \\left|{w_{y}}\\right| + Dr_{23} \\left|{w_{z}}\\right| + Du_{23} \\left|{v_{x}}\\right| + Dv_{23} \\left|{v_{y}}\\right| + Dw_{23} \\left|{v_{z}}\\right|\\right) + w_{x} \\left(Dl_{24} + Dp_{24} \\left|{w_{x}}\\right| + Dq_{24} \\left|{w_{y}}\\right| + Dr_{24} \\left|{w_{z}}\\right| + Du_{24} \\left|{v_{x}}\\right| + Dv_{24} \\left|{v_{y}}\\right| + Dw_{24} \\left|{v_{z}}\\right|\\right) + w_{y} \\left(Dl_{25} + Dp_{25} \\left|{w_{x}}\\right| + Dq_{25} \\left|{w_{y}}\\right| + Dr_{25} \\left|{w_{z}}\\right| + Du_{25} \\left|{v_{x}}\\right| + Dv_{25} \\left|{v_{y}}\\right| + Dw_{25} \\left|{v_{z}}\\right|\\right) + w_{z} \\left(Dl_{26} + Dp_{26} \\left|{w_{x}}\\right| + Dq_{26} \\left|{w_{y}}\\right| + Dr_{26} \\left|{w_{z}}\\right| + Du_{26} \\left|{v_{x}}\\right| + Dv_{26} \\left|{v_{y}}\\right| + Dw_{26} \\left|{v_{z}}\\right|\\right)\\\\v_{x} \\left(Dl_{31} + Dp_{31} \\left|{w_{x}}\\right| + Dq_{31} \\left|{w_{y}}\\right| + Dr_{31} \\left|{w_{z}}\\right| + Du_{31} \\left|{v_{x}}\\right| + Dv_{31} \\left|{v_{y}}\\right| + Dw_{31} \\left|{v_{z}}\\right|\\right) + v_{y} \\left(Dl_{32} + Dp_{32} \\left|{w_{x}}\\right| + Dq_{32} \\left|{w_{y}}\\right| + Dr_{32} \\left|{w_{z}}\\right| + Du_{32} \\left|{v_{x}}\\right| + Dv_{32} \\left|{v_{y}}\\right| + Dw_{32} \\left|{v_{z}}\\right|\\right) + v_{z} \\left(Dl_{33} + Dp_{33} \\left|{w_{x}}\\right| + Dq_{33} \\left|{w_{y}}\\right| + Dr_{33} \\left|{w_{z}}\\right| + Du_{33} \\left|{v_{x}}\\right| + Dv_{33} \\left|{v_{y}}\\right| + Dw_{33} \\left|{v_{z}}\\right|\\right) + w_{x} \\left(Dl_{34} + Dp_{34} \\left|{w_{x}}\\right| + Dq_{34} \\left|{w_{y}}\\right| + Dr_{34} \\left|{w_{z}}\\right| + Du_{34} \\left|{v_{x}}\\right| + Dv_{34} \\left|{v_{y}}\\right| + Dw_{34} \\left|{v_{z}}\\right|\\right) + w_{y} \\left(Dl_{35} + Dp_{35} \\left|{w_{x}}\\right| + Dq_{35} \\left|{w_{y}}\\right| + Dr_{35} \\left|{w_{z}}\\right| + Du_{35} \\left|{v_{x}}\\right| + Dv_{35} \\left|{v_{y}}\\right| + Dw_{35} \\left|{v_{z}}\\right|\\right) + w_{z} \\left(Dl_{36} + Dp_{36} \\left|{w_{x}}\\right| + Dq_{36} \\left|{w_{y}}\\right| + Dr_{36} \\left|{w_{z}}\\right| + Du_{36} \\left|{v_{x}}\\right| + Dv_{36} \\left|{v_{y}}\\right| + Dw_{36} \\left|{v_{z}}\\right|\\right)\\\\v_{x} \\left(Dl_{41} + Dp_{41} \\left|{w_{x}}\\right| + Dq_{41} \\left|{w_{y}}\\right| + Dr_{41} \\left|{w_{z}}\\right| + Du_{41} \\left|{v_{x}}\\right| + Dv_{41} \\left|{v_{y}}\\right| + Dw_{41} \\left|{v_{z}}\\right|\\right) + v_{y} \\left(Dl_{42} + Dp_{42} \\left|{w_{x}}\\right| + Dq_{42} \\left|{w_{y}}\\right| + Dr_{42} \\left|{w_{z}}\\right| + Du_{42} \\left|{v_{x}}\\right| + Dv_{42} \\left|{v_{y}}\\right| + Dw_{42} \\left|{v_{z}}\\right|\\right) + v_{z} \\left(Dl_{43} + Dp_{43} \\left|{w_{x}}\\right| + Dq_{43} \\left|{w_{y}}\\right| + Dr_{43} \\left|{w_{z}}\\right| + Du_{43} \\left|{v_{x}}\\right| + Dv_{43} \\left|{v_{y}}\\right| + Dw_{43} \\left|{v_{z}}\\right|\\right) + w_{x} \\left(Dl_{44} + Dp_{44} \\left|{w_{x}}\\right| + Dq_{44} \\left|{w_{y}}\\right| + Dr_{44} \\left|{w_{z}}\\right| + Du_{44} \\left|{v_{x}}\\right| + Dv_{44} \\left|{v_{y}}\\right| + Dw_{44} \\left|{v_{z}}\\right|\\right) + w_{y} \\left(Dl_{45} + Dp_{45} \\left|{w_{x}}\\right| + Dq_{45} \\left|{w_{y}}\\right| + Dr_{45} \\left|{w_{z}}\\right| + Du_{45} \\left|{v_{x}}\\right| + Dv_{45} \\left|{v_{y}}\\right| + Dw_{45} \\left|{v_{z}}\\right|\\right) + w_{z} \\left(Dl_{46} + Dp_{46} \\left|{w_{x}}\\right| + Dq_{46} \\left|{w_{y}}\\right| + Dr_{46} \\left|{w_{z}}\\right| + Du_{46} \\left|{v_{x}}\\right| + Dv_{46} \\left|{v_{y}}\\right| + Dw_{46} \\left|{v_{z}}\\right|\\right)\\\\v_{x} \\left(Dl_{51} + Dp_{51} \\left|{w_{x}}\\right| + Dq_{51} \\left|{w_{y}}\\right| + Dr_{51} \\left|{w_{z}}\\right| + Du_{51} \\left|{v_{x}}\\right| + Dv_{51} \\left|{v_{y}}\\right| + Dw_{51} \\left|{v_{z}}\\right|\\right) + v_{y} \\left(Dl_{52} + Dp_{52} \\left|{w_{x}}\\right| + Dq_{52} \\left|{w_{y}}\\right| + Dr_{52} \\left|{w_{z}}\\right| + Du_{52} \\left|{v_{x}}\\right| + Dv_{52} \\left|{v_{y}}\\right| + Dw_{52} \\left|{v_{z}}\\right|\\right) + v_{z} \\left(Dl_{53} + Dp_{53} \\left|{w_{x}}\\right| + Dq_{53} \\left|{w_{y}}\\right| + Dr_{53} \\left|{w_{z}}\\right| + Du_{53} \\left|{v_{x}}\\right| + Dv_{53} \\left|{v_{y}}\\right| + Dw_{53} \\left|{v_{z}}\\right|\\right) + w_{x} \\left(Dl_{54} + Dp_{54} \\left|{w_{x}}\\right| + Dq_{54} \\left|{w_{y}}\\right| + Dr_{54} \\left|{w_{z}}\\right| + Du_{54} \\left|{v_{x}}\\right| + Dv_{54} \\left|{v_{y}}\\right| + Dw_{54} \\left|{v_{z}}\\right|\\right) + w_{y} \\left(Dl_{55} + Dp_{55} \\left|{w_{x}}\\right| + Dq_{55} \\left|{w_{y}}\\right| + Dr_{55} \\left|{w_{z}}\\right| + Du_{55} \\left|{v_{x}}\\right| + Dv_{55} \\left|{v_{y}}\\right| + Dw_{55} \\left|{v_{z}}\\right|\\right) + w_{z} \\left(Dl_{56} + Dp_{56} \\left|{w_{x}}\\right| + Dq_{56} \\left|{w_{y}}\\right| + Dr_{56} \\left|{w_{z}}\\right| + Du_{56} \\left|{v_{x}}\\right| + Dv_{56} \\left|{v_{y}}\\right| + Dw_{56} \\left|{v_{z}}\\right|\\right)\\\\v_{x} \\left(Dl_{61} + Dp_{61} \\left|{w_{x}}\\right| + Dq_{61} \\left|{w_{y}}\\right| + Dr_{61} \\left|{w_{z}}\\right| + Du_{61} \\left|{v_{x}}\\right| + Dv_{61} \\left|{v_{y}}\\right| + Dw_{61} \\left|{v_{z}}\\right|\\right) + v_{y} \\left(Dl_{62} + Dp_{62} \\left|{w_{x}}\\right| + Dq_{62} \\left|{w_{y}}\\right| + Dr_{62} \\left|{w_{z}}\\right| + Du_{62} \\left|{v_{x}}\\right| + Dv_{62} \\left|{v_{y}}\\right| + Dw_{62} \\left|{v_{z}}\\right|\\right) + v_{z} \\left(Dl_{63} + Dp_{63} \\left|{w_{x}}\\right| + Dq_{63} \\left|{w_{y}}\\right| + Dr_{63} \\left|{w_{z}}\\right| + Du_{63} \\left|{v_{x}}\\right| + Dv_{63} \\left|{v_{y}}\\right| + Dw_{63} \\left|{v_{z}}\\right|\\right) + w_{x} \\left(Dl_{64} + Dp_{64} \\left|{w_{x}}\\right| + Dq_{64} \\left|{w_{y}}\\right| + Dr_{64} \\left|{w_{z}}\\right| + Du_{64} \\left|{v_{x}}\\right| + Dv_{64} \\left|{v_{y}}\\right| + Dw_{64} \\left|{v_{z}}\\right|\\right) + w_{y} \\left(Dl_{65} + Dp_{65} \\left|{w_{x}}\\right| + Dq_{65} \\left|{w_{y}}\\right| + Dr_{65} \\left|{w_{z}}\\right| + Du_{65} \\left|{v_{x}}\\right| + Dv_{65} \\left|{v_{y}}\\right| + Dw_{65} \\left|{v_{z}}\\right|\\right) + w_{z} \\left(Dl_{66} + Dp_{66} \\left|{w_{x}}\\right| + Dq_{66} \\left|{w_{y}}\\right| + Dr_{66} \\left|{w_{z}}\\right| + Du_{66} \\left|{v_{x}}\\right| + Dv_{66} \\left|{v_{y}}\\right| + Dw_{66} \\left|{v_{z}}\\right|\\right)\\end{matrix}\\right]$"
      ],
      "text/plain": [
       "Matrix([\n",
       "[v_x*(Dl_11 + Dp_11*Abs(w_x) + Dq_11*Abs(w_y) + Dr_11*Abs(w_z) + Du_11*Abs(v_x) + Dv_11*Abs(v_y) + Dw_11*Abs(v_z)) + v_y*(Dl_12 + Dp_12*Abs(w_x) + Dq_12*Abs(w_y) + Dr_12*Abs(w_z) + Du_12*Abs(v_x) + Dv_12*Abs(v_y) + Dw_12*Abs(v_z)) + v_z*(Dl_13 + Dp_13*Abs(w_x) + Dq_13*Abs(w_y) + Dr_13*Abs(w_z) + Du_13*Abs(v_x) + Dv_13*Abs(v_y) + Dw_13*Abs(v_z)) + w_x*(Dl_14 + Dp_14*Abs(w_x) + Dq_14*Abs(w_y) + Dr_14*Abs(w_z) + Du_14*Abs(v_x) + Dv_14*Abs(v_y) + Dw_14*Abs(v_z)) + w_y*(Dl_15 + Dp_15*Abs(w_x) + Dq_15*Abs(w_y) + Dr_15*Abs(w_z) + Du_15*Abs(v_x) + Dv_15*Abs(v_y) + Dw_15*Abs(v_z)) + w_z*(Dl_16 + Dp_16*Abs(w_x) + Dq_16*Abs(w_y) + Dr_16*Abs(w_z) + Du_16*Abs(v_x) + Dv_16*Abs(v_y) + Dw_16*Abs(v_z))],\n",
       "[v_x*(Dl_21 + Dp_21*Abs(w_x) + Dq_21*Abs(w_y) + Dr_21*Abs(w_z) + Du_21*Abs(v_x) + Dv_21*Abs(v_y) + Dw_21*Abs(v_z)) + v_y*(Dl_22 + Dp_22*Abs(w_x) + Dq_22*Abs(w_y) + Dr_22*Abs(w_z) + Du_22*Abs(v_x) + Dv_22*Abs(v_y) + Dw_22*Abs(v_z)) + v_z*(Dl_23 + Dp_23*Abs(w_x) + Dq_23*Abs(w_y) + Dr_23*Abs(w_z) + Du_23*Abs(v_x) + Dv_23*Abs(v_y) + Dw_23*Abs(v_z)) + w_x*(Dl_24 + Dp_24*Abs(w_x) + Dq_24*Abs(w_y) + Dr_24*Abs(w_z) + Du_24*Abs(v_x) + Dv_24*Abs(v_y) + Dw_24*Abs(v_z)) + w_y*(Dl_25 + Dp_25*Abs(w_x) + Dq_25*Abs(w_y) + Dr_25*Abs(w_z) + Du_25*Abs(v_x) + Dv_25*Abs(v_y) + Dw_25*Abs(v_z)) + w_z*(Dl_26 + Dp_26*Abs(w_x) + Dq_26*Abs(w_y) + Dr_26*Abs(w_z) + Du_26*Abs(v_x) + Dv_26*Abs(v_y) + Dw_26*Abs(v_z))],\n",
       "[v_x*(Dl_31 + Dp_31*Abs(w_x) + Dq_31*Abs(w_y) + Dr_31*Abs(w_z) + Du_31*Abs(v_x) + Dv_31*Abs(v_y) + Dw_31*Abs(v_z)) + v_y*(Dl_32 + Dp_32*Abs(w_x) + Dq_32*Abs(w_y) + Dr_32*Abs(w_z) + Du_32*Abs(v_x) + Dv_32*Abs(v_y) + Dw_32*Abs(v_z)) + v_z*(Dl_33 + Dp_33*Abs(w_x) + Dq_33*Abs(w_y) + Dr_33*Abs(w_z) + Du_33*Abs(v_x) + Dv_33*Abs(v_y) + Dw_33*Abs(v_z)) + w_x*(Dl_34 + Dp_34*Abs(w_x) + Dq_34*Abs(w_y) + Dr_34*Abs(w_z) + Du_34*Abs(v_x) + Dv_34*Abs(v_y) + Dw_34*Abs(v_z)) + w_y*(Dl_35 + Dp_35*Abs(w_x) + Dq_35*Abs(w_y) + Dr_35*Abs(w_z) + Du_35*Abs(v_x) + Dv_35*Abs(v_y) + Dw_35*Abs(v_z)) + w_z*(Dl_36 + Dp_36*Abs(w_x) + Dq_36*Abs(w_y) + Dr_36*Abs(w_z) + Du_36*Abs(v_x) + Dv_36*Abs(v_y) + Dw_36*Abs(v_z))],\n",
       "[v_x*(Dl_41 + Dp_41*Abs(w_x) + Dq_41*Abs(w_y) + Dr_41*Abs(w_z) + Du_41*Abs(v_x) + Dv_41*Abs(v_y) + Dw_41*Abs(v_z)) + v_y*(Dl_42 + Dp_42*Abs(w_x) + Dq_42*Abs(w_y) + Dr_42*Abs(w_z) + Du_42*Abs(v_x) + Dv_42*Abs(v_y) + Dw_42*Abs(v_z)) + v_z*(Dl_43 + Dp_43*Abs(w_x) + Dq_43*Abs(w_y) + Dr_43*Abs(w_z) + Du_43*Abs(v_x) + Dv_43*Abs(v_y) + Dw_43*Abs(v_z)) + w_x*(Dl_44 + Dp_44*Abs(w_x) + Dq_44*Abs(w_y) + Dr_44*Abs(w_z) + Du_44*Abs(v_x) + Dv_44*Abs(v_y) + Dw_44*Abs(v_z)) + w_y*(Dl_45 + Dp_45*Abs(w_x) + Dq_45*Abs(w_y) + Dr_45*Abs(w_z) + Du_45*Abs(v_x) + Dv_45*Abs(v_y) + Dw_45*Abs(v_z)) + w_z*(Dl_46 + Dp_46*Abs(w_x) + Dq_46*Abs(w_y) + Dr_46*Abs(w_z) + Du_46*Abs(v_x) + Dv_46*Abs(v_y) + Dw_46*Abs(v_z))],\n",
       "[v_x*(Dl_51 + Dp_51*Abs(w_x) + Dq_51*Abs(w_y) + Dr_51*Abs(w_z) + Du_51*Abs(v_x) + Dv_51*Abs(v_y) + Dw_51*Abs(v_z)) + v_y*(Dl_52 + Dp_52*Abs(w_x) + Dq_52*Abs(w_y) + Dr_52*Abs(w_z) + Du_52*Abs(v_x) + Dv_52*Abs(v_y) + Dw_52*Abs(v_z)) + v_z*(Dl_53 + Dp_53*Abs(w_x) + Dq_53*Abs(w_y) + Dr_53*Abs(w_z) + Du_53*Abs(v_x) + Dv_53*Abs(v_y) + Dw_53*Abs(v_z)) + w_x*(Dl_54 + Dp_54*Abs(w_x) + Dq_54*Abs(w_y) + Dr_54*Abs(w_z) + Du_54*Abs(v_x) + Dv_54*Abs(v_y) + Dw_54*Abs(v_z)) + w_y*(Dl_55 + Dp_55*Abs(w_x) + Dq_55*Abs(w_y) + Dr_55*Abs(w_z) + Du_55*Abs(v_x) + Dv_55*Abs(v_y) + Dw_55*Abs(v_z)) + w_z*(Dl_56 + Dp_56*Abs(w_x) + Dq_56*Abs(w_y) + Dr_56*Abs(w_z) + Du_56*Abs(v_x) + Dv_56*Abs(v_y) + Dw_56*Abs(v_z))],\n",
       "[v_x*(Dl_61 + Dp_61*Abs(w_x) + Dq_61*Abs(w_y) + Dr_61*Abs(w_z) + Du_61*Abs(v_x) + Dv_61*Abs(v_y) + Dw_61*Abs(v_z)) + v_y*(Dl_62 + Dp_62*Abs(w_x) + Dq_62*Abs(w_y) + Dr_62*Abs(w_z) + Du_62*Abs(v_x) + Dv_62*Abs(v_y) + Dw_62*Abs(v_z)) + v_z*(Dl_63 + Dp_63*Abs(w_x) + Dq_63*Abs(w_y) + Dr_63*Abs(w_z) + Du_63*Abs(v_x) + Dv_63*Abs(v_y) + Dw_63*Abs(v_z)) + w_x*(Dl_64 + Dp_64*Abs(w_x) + Dq_64*Abs(w_y) + Dr_64*Abs(w_z) + Du_64*Abs(v_x) + Dv_64*Abs(v_y) + Dw_64*Abs(v_z)) + w_y*(Dl_65 + Dp_65*Abs(w_x) + Dq_65*Abs(w_y) + Dr_65*Abs(w_z) + Du_65*Abs(v_x) + Dv_65*Abs(v_y) + Dw_65*Abs(v_z)) + w_z*(Dl_66 + Dp_66*Abs(w_x) + Dq_66*Abs(w_y) + Dr_66*Abs(w_z) + Du_66*Abs(v_x) + Dv_66*Abs(v_y) + Dw_66*Abs(v_z))]])"
      ]
     },
     "metadata": {},
     "output_type": "display_data"
    },
    {
     "name": "stdout",
     "output_type": "stream",
     "text": [
      "Restoring:\n"
     ]
    },
    {
     "data": {
      "text/latex": [
       "$\\displaystyle \\left[\\begin{matrix}- B \\left(- 2 q_{w} q_{y} + 2 q_{x} q_{z}\\right) + W \\left(- 2 q_{w} q_{y} + 2 q_{x} q_{z}\\right)\\\\- B \\left(2 q_{w} q_{x} + 2 q_{y} q_{z}\\right) + W \\left(2 q_{w} q_{x} + 2 q_{y} q_{z}\\right)\\\\- B \\left(q_{w}^{2} - q_{x}^{2} - q_{y}^{2} + q_{z}^{2}\\right) + W \\left(q_{w}^{2} - q_{x}^{2} - q_{y}^{2} + q_{z}^{2}\\right)\\\\- W z_{g} \\left(2 q_{w} q_{x} + 2 q_{y} q_{z}\\right)\\\\W z_{g} \\left(- 2 q_{w} q_{y} + 2 q_{x} q_{z}\\right)\\\\0\\end{matrix}\\right]$"
      ],
      "text/plain": [
       "Matrix([\n",
       "[                      -B*(-2*q_w*q_y + 2*q_x*q_z) + W*(-2*q_w*q_y + 2*q_x*q_z)],\n",
       "[                        -B*(2*q_w*q_x + 2*q_y*q_z) + W*(2*q_w*q_x + 2*q_y*q_z)],\n",
       "[-B*(q_w**2 - q_x**2 - q_y**2 + q_z**2) + W*(q_w**2 - q_x**2 - q_y**2 + q_z**2)],\n",
       "[                                                -W*z_g*(2*q_w*q_x + 2*q_y*q_z)],\n",
       "[                                                W*z_g*(-2*q_w*q_y + 2*q_x*q_z)],\n",
       "[                                                                             0]])"
      ]
     },
     "metadata": {},
     "output_type": "display_data"
    }
   ],
   "source": [
    "from sympy import *\n",
    "import numpy as np\n",
    "\n",
    "damping_mode = 'quadratic'\n",
    "inertia_mode = 'full'\n",
    "\n",
    "# quaternion components\n",
    "qw,qx,qy,qz = symbols('q_w q_x q_y q_z')\n",
    "q = Quaternion.from_Matrix([qw, qx, qy, qz])\n",
    "# rotation matrix\n",
    "R = q.to_rotation_matrix()*(qw*qw+qx*qx+qy*qy+qz*qz)\n",
    "display(R)\n",
    "\n",
    "# linear and angular velocities\n",
    "v_x, v_y, v_z = symbols('v_x v_y v_z')\n",
    "w_x, w_y, w_z = symbols('w_x w_y w_z')\n",
    "v_lin = Matrix([v_x, v_y, v_z])\n",
    "v_ang = Matrix([w_x, w_y, w_z])\n",
    "V = Matrix([v_lin, v_ang])\n",
    "\n",
    "# linear and angular accelerations\n",
    "u_dot, v_dot, w_dot = symbols('\\dot{v_x} \\dot{v_y} \\dot{v_z}')\n",
    "p_dot, q_dot, r_dot = symbols('\\dot{w_x} \\dot{w_y} \\dot{w_z}')\n",
    "v1_dot = Matrix([u_dot, v_dot, w_dot])\n",
    "v2_dot = Matrix([p_dot, q_dot, r_dot])\n",
    "V_dot = Matrix([v1_dot,v2_dot])\n",
    "\n",
    "# Mass\n",
    "if inertia_mode == 'full':\n",
    "    M = Matrix(symbols([['M_%i%i'%(j,i) for i in range(1,7)] for j in range(1,7)]))\n",
    "else:\n",
    "    M = Matrix(np.diag([symbols('M_%i%i'%(i,i)) for i in range(1,7)]))\n",
    "display(M)\n",
    "\n",
    "inertia = M*V_dot\n",
    "\n",
    "\n",
    "def skew(v):\n",
    "    return Matrix([[0,-v[2],v[1]],\n",
    "                   [v[2],0,-v[0]],\n",
    "                   [-v[1],v[0],0]])\n",
    "\n",
    "M11 = M[:3,:3]\n",
    "M12 = M[:3,3:]\n",
    "M22 = M[3:,3:]\n",
    "M21 = M[3:,:3]\n",
    "\n",
    "# Coriolis\n",
    "C = Matrix([[zeros(3),-skew(M11*v_lin + M12*v_ang)],\n",
    "            [-skew(M11*v_lin + M12*v_ang),-skew(M21*v_lin + M22*v_ang)]])\n",
    "coriolis = C*V\n",
    "\n",
    "# Damping\n",
    "Dl = Matrix(symbols([['Dl_%i%i'%(j,i) for i in range(1,7)] for j in range(1,7)]))\n",
    "\n",
    "Du = Matrix(symbols([['Du_%i%i'%(j,i) for i in range(1,7)] for j in range(1,7)]))* \\\n",
    "    abs(v_x)\n",
    "Dv = Matrix(symbols([['Dv_%i%i'%(j,i) for i in range(1,7)] for j in range(1,7)]))* \\\n",
    "    abs(v_y)\n",
    "Dw = Matrix(symbols([['Dw_%i%i'%(j,i) for i in range(1,7)] for j in range(1,7)]))* \\\n",
    "    abs(v_z)\n",
    "Dp = Matrix(symbols([['Dp_%i%i'%(j,i) for i in range(1,7)] for j in range(1,7)]))* \\\n",
    "    abs(w_x)\n",
    "Dq = Matrix(symbols([['Dq_%i%i'%(j,i) for i in range(1,7)] for j in range(1,7)]))* \\\n",
    "    abs(w_y)\n",
    "Dr = Matrix(symbols([['Dr_%i%i'%(j,i) for i in range(1,7)] for j in range(1,7)]))* \\\n",
    "    abs(w_z)\n",
    "\n",
    "\n",
    "\n",
    "if damping_mode == 'linear':\n",
    "    damping = Dl*V\n",
    "elif damping_mode == 'quadratic':\n",
    "    damping = (Dl+Du+Dv+Dw+Dp+Dq+Dr)*V\n",
    "    \n",
    "\n",
    "# restoring\n",
    "B, W = symbols('B W') # bouyancy and weight\n",
    "xb,yb,zb = symbols('x_b y_b z_b')\n",
    "xg,yg,zg = symbols('x_g y_g z_g')\n",
    "rg = Matrix([0,0,zg]) # center of gravity\n",
    "rb = Matrix([0,0,0]) # center of buoyancy\n",
    "\n",
    "fb = R.T * Matrix([0,0,-B])\n",
    "fg = R.T * Matrix([0,0,W])\n",
    "\n",
    "b = Matrix([fg + fb, rg.cross(fg) + rb.cross(fb)])\n",
    "\n",
    "\n",
    "print('Mass*acc:')\n",
    "display(inertia)\n",
    "print('Coriolis matrix:')\n",
    "display(C)\n",
    "print('Coriolis effect:')\n",
    "display(coriolis)\n",
    "print('Damping:')\n",
    "display(damping)\n",
    "print('Restoring:')\n",
    "display(b)"
   ]
  },
  {
   "cell_type": "code",
   "execution_count": 2,
   "id": "9869fcb4",
   "metadata": {},
   "outputs": [
    {
     "data": {
      "text/latex": [
       "$\\displaystyle \\left[\\begin{matrix}f \\cos{\\left(\\psi \\right)} \\cos{\\left(\\theta \\right)}\\\\- f \\sin{\\left(\\psi \\right)} \\cos{\\left(\\theta \\right)}\\\\f \\sin{\\left(\\theta \\right)}\\\\0\\\\- f x_{f} \\sin{\\left(\\theta \\right)}\\\\- f x_{f} \\sin{\\left(\\psi \\right)} \\cos{\\left(\\theta \\right)}\\end{matrix}\\right]$"
      ],
      "text/plain": [
       "Matrix([\n",
       "[     f*cos(psi)*cos(theta)],\n",
       "[    -f*sin(psi)*cos(theta)],\n",
       "[              f*sin(theta)],\n",
       "[                         0],\n",
       "[         -f*x_f*sin(theta)],\n",
       "[-f*x_f*sin(psi)*cos(theta)]])"
      ]
     },
     "metadata": {},
     "output_type": "display_data"
    }
   ],
   "source": [
    "# thruster wrench\n",
    "force = rot_axis3(Symbol('psi'))*rot_axis2(Symbol('theta'))*Matrix([Symbol('f'),0,0])\n",
    "r_f = Matrix([Symbol('x_f'),0,0])\n",
    "torque = r_f.cross(force)\n",
    "wrench = Matrix([force, torque])\n",
    "display(wrench)"
   ]
  },
  {
   "cell_type": "code",
   "execution_count": 3,
   "id": "1b15391e",
   "metadata": {},
   "outputs": [
    {
     "name": "stdout",
     "output_type": "stream",
     "text": [
      "quaternion error represented as another quaternion\n"
     ]
    },
    {
     "data": {
      "text/latex": [
       "$\\displaystyle \\left(q_{w} q^{d}_{w} + q_{x} q^{d}_{x} + q_{y} q^{d}_{y} + q_{z} q^{d}_{z}\\right) + \\left(q_{w} q^{d}_{x} - q^{d}_{w} q_{x} + q_{y} q^{d}_{z} - q^{d}_{y} q_{z}\\right) i + \\left(q_{w} q^{d}_{y} - q^{d}_{w} q_{y} - q_{x} q^{d}_{z} + q^{d}_{x} q_{z}\\right) j + \\left(q_{w} q^{d}_{z} - q^{d}_{w} q_{z} + q_{x} q^{d}_{y} - q^{d}_{x} q_{y}\\right) k$"
      ],
      "text/plain": [
       "(q_w*q_w^d + q_x*q_x^d + q_y*q_y^d + q_z*q_z^d) + (q_w*q_x^d - q_w^d*q_x + q_y*q_z^d - q_y^d*q_z)*i + (q_w*q_y^d - q_w^d*q_y - q_x*q_z^d + q_x^d*q_z)*j + (q_w*q_z^d - q_w^d*q_z + q_x*q_y^d - q_x^d*q_y)*k"
      ]
     },
     "metadata": {},
     "output_type": "display_data"
    },
    {
     "name": "stdout",
     "output_type": "stream",
     "text": [
      "scalar distance\n"
     ]
    },
    {
     "data": {
      "text/latex": [
       "$\\displaystyle 1 - \\left(q_{w} q^{d}_{w} + q_{x} q^{d}_{x} + q_{y} q^{d}_{y} + q_{z} q^{d}_{z}\\right)^{2}$"
      ],
      "text/plain": [
       "1 - (q_w*q_w^d + q_x*q_x^d + q_y*q_y^d + q_z*q_z^d)**2"
      ]
     },
     "metadata": {},
     "output_type": "display_data"
    }
   ],
   "source": [
    "# Quaternion Error\n",
    "symbols('q_w q_x q_y q_z')\n",
    "qd = Quaternion.from_Matrix(symbols('q_w^d q_x^d q_y^d q_z^d'))\n",
    "\n",
    "print('quaternion error represented as another quaternion')\n",
    "display((qd.mul(q.inverse())*q.norm()**2).simplify())\n",
    "\n",
    "# scalar error between two quaternions\n",
    "# according to https://math.stackexchange.com/questions/90081/quaternion-distance\n",
    "print('scalar distance')\n",
    "display(1 - (q.to_Matrix().T*qd.to_Matrix())[0]**2)"
   ]
  },
  {
   "cell_type": "code",
   "execution_count": null,
   "id": "3ba60c6d",
   "metadata": {},
   "outputs": [],
   "source": []
  },
  {
   "cell_type": "code",
   "execution_count": null,
   "id": "3605fb5f",
   "metadata": {
    "tags": []
   },
   "outputs": [],
   "source": []
  },
  {
   "cell_type": "code",
   "execution_count": null,
   "id": "be122a17",
   "metadata": {},
   "outputs": [],
   "source": []
  }
 ],
 "metadata": {
  "kernelspec": {
   "display_name": "Python 3 (ipykernel)",
   "language": "python",
   "name": "python3"
  },
  "language_info": {
   "codemirror_mode": {
    "name": "ipython",
    "version": 3
   },
   "file_extension": ".py",
   "mimetype": "text/x-python",
   "name": "python",
   "nbconvert_exporter": "python",
   "pygments_lexer": "ipython3",
   "version": "3.8.10"
  },
  "vscode": {
   "interpreter": {
    "hash": "916dbcbb3f70747c44a77c7bcd40155683ae19c65e1c03b4aa3499c5328201f1"
   }
  }
 },
 "nbformat": 4,
 "nbformat_minor": 5
}

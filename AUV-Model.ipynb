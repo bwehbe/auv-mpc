{
 "cells": [
  {
   "cell_type": "markdown",
   "id": "ee22b42e",
   "metadata": {},
   "source": [
    "## AUV Modeling"
   ]
  },
  {
   "cell_type": "markdown",
   "id": "27202e02",
   "metadata": {},
   "source": [
    "The equations of Motion are written as \n",
    "$$\\tau= M\\dot{v} + C(v)v +  d(v) + b(\\Theta)\n",
    "$$\n",
    "\n",
    "where\n",
    "- $M$ is the inertia matrix\n",
    "- $C(v)v$ are the coriolis effects\n",
    "- $d(v)$ are the damping effects\n",
    "- $b(\\Theta)$ are the restoring effects due to buoyancy"
   ]
  },
  {
   "cell_type": "code",
   "execution_count": 1,
   "id": "64118e15",
   "metadata": {},
   "outputs": [
    {
     "data": {
      "text/latex": [
       "$\\displaystyle \\left[\\begin{matrix}q_{w}^{2} + q_{x}^{2} - q_{y}^{2} - q_{z}^{2} & - 2 q_{w} q_{z} + 2 q_{x} q_{y} & 2 q_{w} q_{y} + 2 q_{x} q_{z}\\\\2 q_{w} q_{z} + 2 q_{x} q_{y} & q_{w}^{2} - q_{x}^{2} + q_{y}^{2} - q_{z}^{2} & - 2 q_{w} q_{x} + 2 q_{y} q_{z}\\\\- 2 q_{w} q_{y} + 2 q_{x} q_{z} & 2 q_{w} q_{x} + 2 q_{y} q_{z} & q_{w}^{2} - q_{x}^{2} - q_{y}^{2} + q_{z}^{2}\\end{matrix}\\right]$"
      ],
      "text/plain": [
       "Matrix([\n",
       "[q_w**2 + q_x**2 - q_y**2 - q_z**2,            -2*q_w*q_z + 2*q_x*q_y,             2*q_w*q_y + 2*q_x*q_z],\n",
       "[            2*q_w*q_z + 2*q_x*q_y, q_w**2 - q_x**2 + q_y**2 - q_z**2,            -2*q_w*q_x + 2*q_y*q_z],\n",
       "[           -2*q_w*q_y + 2*q_x*q_z,             2*q_w*q_x + 2*q_y*q_z, q_w**2 - q_x**2 - q_y**2 + q_z**2]])"
      ]
     },
     "metadata": {},
     "output_type": "display_data"
    },
    {
     "data": {
      "text/latex": [
       "$\\displaystyle \\left[\\begin{matrix}M_{11} & M_{12} & M_{13} & M_{14} & M_{15} & M_{16}\\\\M_{21} & M_{22} & M_{23} & M_{24} & M_{25} & M_{26}\\\\M_{31} & M_{32} & M_{33} & M_{34} & M_{35} & M_{36}\\\\M_{41} & M_{42} & M_{43} & M_{44} & M_{45} & M_{46}\\\\M_{51} & M_{52} & M_{53} & M_{54} & M_{55} & M_{56}\\\\M_{61} & M_{62} & M_{63} & M_{64} & M_{65} & M_{66}\\end{matrix}\\right]$"
      ],
      "text/plain": [
       "Matrix([\n",
       "[M_11, M_12, M_13, M_14, M_15, M_16],\n",
       "[M_21, M_22, M_23, M_24, M_25, M_26],\n",
       "[M_31, M_32, M_33, M_34, M_35, M_36],\n",
       "[M_41, M_42, M_43, M_44, M_45, M_46],\n",
       "[M_51, M_52, M_53, M_54, M_55, M_56],\n",
       "[M_61, M_62, M_63, M_64, M_65, M_66]])"
      ]
     },
     "metadata": {},
     "output_type": "display_data"
    },
    {
     "name": "stdout",
     "output_type": "stream",
     "text": [
      "Mass*acc:\n"
     ]
    },
    {
     "data": {
      "text/latex": [
       "$\\displaystyle \\left[\\begin{matrix}M_{11} \\dot{v_x} + M_{12} \\dot{v_y} + M_{13} \\dot{v_z} + M_{14} \\dot{w_x} + M_{15} \\dot{w_y} + M_{16} \\dot{w_z}\\\\M_{21} \\dot{v_x} + M_{22} \\dot{v_y} + M_{23} \\dot{v_z} + M_{24} \\dot{w_x} + M_{25} \\dot{w_y} + M_{26} \\dot{w_z}\\\\M_{31} \\dot{v_x} + M_{32} \\dot{v_y} + M_{33} \\dot{v_z} + M_{34} \\dot{w_x} + M_{35} \\dot{w_y} + M_{36} \\dot{w_z}\\\\M_{41} \\dot{v_x} + M_{42} \\dot{v_y} + M_{43} \\dot{v_z} + M_{44} \\dot{w_x} + M_{45} \\dot{w_y} + M_{46} \\dot{w_z}\\\\M_{51} \\dot{v_x} + M_{52} \\dot{v_y} + M_{53} \\dot{v_z} + M_{54} \\dot{w_x} + M_{55} \\dot{w_y} + M_{56} \\dot{w_z}\\\\M_{61} \\dot{v_x} + M_{62} \\dot{v_y} + M_{63} \\dot{v_z} + M_{64} \\dot{w_x} + M_{65} \\dot{w_y} + M_{66} \\dot{w_z}\\end{matrix}\\right]$"
      ],
      "text/plain": [
       "Matrix([\n",
       "[M_11*\\dot{v_x} + M_12*\\dot{v_y} + M_13*\\dot{v_z} + M_14*\\dot{w_x} + M_15*\\dot{w_y} + M_16*\\dot{w_z}],\n",
       "[M_21*\\dot{v_x} + M_22*\\dot{v_y} + M_23*\\dot{v_z} + M_24*\\dot{w_x} + M_25*\\dot{w_y} + M_26*\\dot{w_z}],\n",
       "[M_31*\\dot{v_x} + M_32*\\dot{v_y} + M_33*\\dot{v_z} + M_34*\\dot{w_x} + M_35*\\dot{w_y} + M_36*\\dot{w_z}],\n",
       "[M_41*\\dot{v_x} + M_42*\\dot{v_y} + M_43*\\dot{v_z} + M_44*\\dot{w_x} + M_45*\\dot{w_y} + M_46*\\dot{w_z}],\n",
       "[M_51*\\dot{v_x} + M_52*\\dot{v_y} + M_53*\\dot{v_z} + M_54*\\dot{w_x} + M_55*\\dot{w_y} + M_56*\\dot{w_z}],\n",
       "[M_61*\\dot{v_x} + M_62*\\dot{v_y} + M_63*\\dot{v_z} + M_64*\\dot{w_x} + M_65*\\dot{w_y} + M_66*\\dot{w_z}]])"
      ]
     },
     "metadata": {},
     "output_type": "display_data"
    },
    {
     "name": "stdout",
     "output_type": "stream",
     "text": [
      "Coriolis matrix:\n"
     ]
    },
    {
     "data": {
      "text/latex": [
       "$\\displaystyle \\left[\\begin{matrix}0 & 0 & 0 & 0 & M_{31} v_{x} + M_{32} v_{y} + M_{33} v_{z} + M_{34} w_{x} + M_{35} w_{y} + M_{36} w_{z} & - M_{21} v_{x} - M_{22} v_{y} - M_{23} v_{z} - M_{24} w_{x} - M_{25} w_{y} - M_{26} w_{z}\\\\0 & 0 & 0 & - M_{31} v_{x} - M_{32} v_{y} - M_{33} v_{z} - M_{34} w_{x} - M_{35} w_{y} - M_{36} w_{z} & 0 & M_{11} v_{x} + M_{12} v_{y} + M_{13} v_{z} + M_{14} w_{x} + M_{15} w_{y} + M_{16} w_{z}\\\\0 & 0 & 0 & M_{21} v_{x} + M_{22} v_{y} + M_{23} v_{z} + M_{24} w_{x} + M_{25} w_{y} + M_{26} w_{z} & - M_{11} v_{x} - M_{12} v_{y} - M_{13} v_{z} - M_{14} w_{x} - M_{15} w_{y} - M_{16} w_{z} & 0\\\\0 & M_{31} v_{x} + M_{32} v_{y} + M_{33} v_{z} + M_{34} w_{x} + M_{35} w_{y} + M_{36} w_{z} & - M_{21} v_{x} - M_{22} v_{y} - M_{23} v_{z} - M_{24} w_{x} - M_{25} w_{y} - M_{26} w_{z} & 0 & M_{61} v_{x} + M_{62} v_{y} + M_{63} v_{z} + M_{64} w_{x} + M_{65} w_{y} + M_{66} w_{z} & - M_{51} v_{x} - M_{52} v_{y} - M_{53} v_{z} - M_{54} w_{x} - M_{55} w_{y} - M_{56} w_{z}\\\\- M_{31} v_{x} - M_{32} v_{y} - M_{33} v_{z} - M_{34} w_{x} - M_{35} w_{y} - M_{36} w_{z} & 0 & M_{11} v_{x} + M_{12} v_{y} + M_{13} v_{z} + M_{14} w_{x} + M_{15} w_{y} + M_{16} w_{z} & - M_{61} v_{x} - M_{62} v_{y} - M_{63} v_{z} - M_{64} w_{x} - M_{65} w_{y} - M_{66} w_{z} & 0 & M_{41} v_{x} + M_{42} v_{y} + M_{43} v_{z} + M_{44} w_{x} + M_{45} w_{y} + M_{46} w_{z}\\\\M_{21} v_{x} + M_{22} v_{y} + M_{23} v_{z} + M_{24} w_{x} + M_{25} w_{y} + M_{26} w_{z} & - M_{11} v_{x} - M_{12} v_{y} - M_{13} v_{z} - M_{14} w_{x} - M_{15} w_{y} - M_{16} w_{z} & 0 & M_{51} v_{x} + M_{52} v_{y} + M_{53} v_{z} + M_{54} w_{x} + M_{55} w_{y} + M_{56} w_{z} & - M_{41} v_{x} - M_{42} v_{y} - M_{43} v_{z} - M_{44} w_{x} - M_{45} w_{y} - M_{46} w_{z} & 0\\end{matrix}\\right]$"
      ],
      "text/plain": [
       "Matrix([\n",
       "[                                                               0,                                                                0,                                                                0,                                                                0,  M_31*v_x + M_32*v_y + M_33*v_z + M_34*w_x + M_35*w_y + M_36*w_z, -M_21*v_x - M_22*v_y - M_23*v_z - M_24*w_x - M_25*w_y - M_26*w_z],\n",
       "[                                                               0,                                                                0,                                                                0, -M_31*v_x - M_32*v_y - M_33*v_z - M_34*w_x - M_35*w_y - M_36*w_z,                                                                0,  M_11*v_x + M_12*v_y + M_13*v_z + M_14*w_x + M_15*w_y + M_16*w_z],\n",
       "[                                                               0,                                                                0,                                                                0,  M_21*v_x + M_22*v_y + M_23*v_z + M_24*w_x + M_25*w_y + M_26*w_z, -M_11*v_x - M_12*v_y - M_13*v_z - M_14*w_x - M_15*w_y - M_16*w_z,                                                                0],\n",
       "[                                                               0,  M_31*v_x + M_32*v_y + M_33*v_z + M_34*w_x + M_35*w_y + M_36*w_z, -M_21*v_x - M_22*v_y - M_23*v_z - M_24*w_x - M_25*w_y - M_26*w_z,                                                                0,  M_61*v_x + M_62*v_y + M_63*v_z + M_64*w_x + M_65*w_y + M_66*w_z, -M_51*v_x - M_52*v_y - M_53*v_z - M_54*w_x - M_55*w_y - M_56*w_z],\n",
       "[-M_31*v_x - M_32*v_y - M_33*v_z - M_34*w_x - M_35*w_y - M_36*w_z,                                                                0,  M_11*v_x + M_12*v_y + M_13*v_z + M_14*w_x + M_15*w_y + M_16*w_z, -M_61*v_x - M_62*v_y - M_63*v_z - M_64*w_x - M_65*w_y - M_66*w_z,                                                                0,  M_41*v_x + M_42*v_y + M_43*v_z + M_44*w_x + M_45*w_y + M_46*w_z],\n",
       "[ M_21*v_x + M_22*v_y + M_23*v_z + M_24*w_x + M_25*w_y + M_26*w_z, -M_11*v_x - M_12*v_y - M_13*v_z - M_14*w_x - M_15*w_y - M_16*w_z,                                                                0,  M_51*v_x + M_52*v_y + M_53*v_z + M_54*w_x + M_55*w_y + M_56*w_z, -M_41*v_x - M_42*v_y - M_43*v_z - M_44*w_x - M_45*w_y - M_46*w_z,                                                                0]])"
      ]
     },
     "metadata": {},
     "output_type": "display_data"
    },
    {
     "name": "stdout",
     "output_type": "stream",
     "text": [
      "Coriolis effect:\n"
     ]
    },
    {
     "data": {
      "text/latex": [
       "$\\displaystyle \\left[\\begin{matrix}w_{y} \\left(M_{31} v_{x} + M_{32} v_{y} + M_{33} v_{z} + M_{34} w_{x} + M_{35} w_{y} + M_{36} w_{z}\\right) + w_{z} \\left(- M_{21} v_{x} - M_{22} v_{y} - M_{23} v_{z} - M_{24} w_{x} - M_{25} w_{y} - M_{26} w_{z}\\right)\\\\w_{x} \\left(- M_{31} v_{x} - M_{32} v_{y} - M_{33} v_{z} - M_{34} w_{x} - M_{35} w_{y} - M_{36} w_{z}\\right) + w_{z} \\left(M_{11} v_{x} + M_{12} v_{y} + M_{13} v_{z} + M_{14} w_{x} + M_{15} w_{y} + M_{16} w_{z}\\right)\\\\w_{x} \\left(M_{21} v_{x} + M_{22} v_{y} + M_{23} v_{z} + M_{24} w_{x} + M_{25} w_{y} + M_{26} w_{z}\\right) + w_{y} \\left(- M_{11} v_{x} - M_{12} v_{y} - M_{13} v_{z} - M_{14} w_{x} - M_{15} w_{y} - M_{16} w_{z}\\right)\\\\v_{y} \\left(M_{31} v_{x} + M_{32} v_{y} + M_{33} v_{z} + M_{34} w_{x} + M_{35} w_{y} + M_{36} w_{z}\\right) + v_{z} \\left(- M_{21} v_{x} - M_{22} v_{y} - M_{23} v_{z} - M_{24} w_{x} - M_{25} w_{y} - M_{26} w_{z}\\right) + w_{y} \\left(M_{61} v_{x} + M_{62} v_{y} + M_{63} v_{z} + M_{64} w_{x} + M_{65} w_{y} + M_{66} w_{z}\\right) + w_{z} \\left(- M_{51} v_{x} - M_{52} v_{y} - M_{53} v_{z} - M_{54} w_{x} - M_{55} w_{y} - M_{56} w_{z}\\right)\\\\v_{x} \\left(- M_{31} v_{x} - M_{32} v_{y} - M_{33} v_{z} - M_{34} w_{x} - M_{35} w_{y} - M_{36} w_{z}\\right) + v_{z} \\left(M_{11} v_{x} + M_{12} v_{y} + M_{13} v_{z} + M_{14} w_{x} + M_{15} w_{y} + M_{16} w_{z}\\right) + w_{x} \\left(- M_{61} v_{x} - M_{62} v_{y} - M_{63} v_{z} - M_{64} w_{x} - M_{65} w_{y} - M_{66} w_{z}\\right) + w_{z} \\left(M_{41} v_{x} + M_{42} v_{y} + M_{43} v_{z} + M_{44} w_{x} + M_{45} w_{y} + M_{46} w_{z}\\right)\\\\v_{x} \\left(M_{21} v_{x} + M_{22} v_{y} + M_{23} v_{z} + M_{24} w_{x} + M_{25} w_{y} + M_{26} w_{z}\\right) + v_{y} \\left(- M_{11} v_{x} - M_{12} v_{y} - M_{13} v_{z} - M_{14} w_{x} - M_{15} w_{y} - M_{16} w_{z}\\right) + w_{x} \\left(M_{51} v_{x} + M_{52} v_{y} + M_{53} v_{z} + M_{54} w_{x} + M_{55} w_{y} + M_{56} w_{z}\\right) + w_{y} \\left(- M_{41} v_{x} - M_{42} v_{y} - M_{43} v_{z} - M_{44} w_{x} - M_{45} w_{y} - M_{46} w_{z}\\right)\\end{matrix}\\right]$"
      ],
      "text/plain": [
       "Matrix([\n",
       "[                                                                                                                                                 w_y*(M_31*v_x + M_32*v_y + M_33*v_z + M_34*w_x + M_35*w_y + M_36*w_z) + w_z*(-M_21*v_x - M_22*v_y - M_23*v_z - M_24*w_x - M_25*w_y - M_26*w_z)],\n",
       "[                                                                                                                                                 w_x*(-M_31*v_x - M_32*v_y - M_33*v_z - M_34*w_x - M_35*w_y - M_36*w_z) + w_z*(M_11*v_x + M_12*v_y + M_13*v_z + M_14*w_x + M_15*w_y + M_16*w_z)],\n",
       "[                                                                                                                                                 w_x*(M_21*v_x + M_22*v_y + M_23*v_z + M_24*w_x + M_25*w_y + M_26*w_z) + w_y*(-M_11*v_x - M_12*v_y - M_13*v_z - M_14*w_x - M_15*w_y - M_16*w_z)],\n",
       "[v_y*(M_31*v_x + M_32*v_y + M_33*v_z + M_34*w_x + M_35*w_y + M_36*w_z) + v_z*(-M_21*v_x - M_22*v_y - M_23*v_z - M_24*w_x - M_25*w_y - M_26*w_z) + w_y*(M_61*v_x + M_62*v_y + M_63*v_z + M_64*w_x + M_65*w_y + M_66*w_z) + w_z*(-M_51*v_x - M_52*v_y - M_53*v_z - M_54*w_x - M_55*w_y - M_56*w_z)],\n",
       "[v_x*(-M_31*v_x - M_32*v_y - M_33*v_z - M_34*w_x - M_35*w_y - M_36*w_z) + v_z*(M_11*v_x + M_12*v_y + M_13*v_z + M_14*w_x + M_15*w_y + M_16*w_z) + w_x*(-M_61*v_x - M_62*v_y - M_63*v_z - M_64*w_x - M_65*w_y - M_66*w_z) + w_z*(M_41*v_x + M_42*v_y + M_43*v_z + M_44*w_x + M_45*w_y + M_46*w_z)],\n",
       "[v_x*(M_21*v_x + M_22*v_y + M_23*v_z + M_24*w_x + M_25*w_y + M_26*w_z) + v_y*(-M_11*v_x - M_12*v_y - M_13*v_z - M_14*w_x - M_15*w_y - M_16*w_z) + w_x*(M_51*v_x + M_52*v_y + M_53*v_z + M_54*w_x + M_55*w_y + M_56*w_z) + w_y*(-M_41*v_x - M_42*v_y - M_43*v_z - M_44*w_x - M_45*w_y - M_46*w_z)]])"
      ]
     },
     "metadata": {},
     "output_type": "display_data"
    },
    {
     "name": "stdout",
     "output_type": "stream",
     "text": [
      "Damping:\n"
     ]
    },
    {
     "data": {
      "text/latex": [
       "$\\displaystyle \\left[\\begin{matrix}Dl_{11} v_{x} + Dl_{12} v_{y} + Dl_{13} v_{z} + Dl_{14} w_{x} + Dl_{15} w_{y} + Dl_{16} w_{z}\\\\Dl_{21} v_{x} + Dl_{22} v_{y} + Dl_{23} v_{z} + Dl_{24} w_{x} + Dl_{25} w_{y} + Dl_{26} w_{z}\\\\Dl_{31} v_{x} + Dl_{32} v_{y} + Dl_{33} v_{z} + Dl_{34} w_{x} + Dl_{35} w_{y} + Dl_{36} w_{z}\\\\Dl_{41} v_{x} + Dl_{42} v_{y} + Dl_{43} v_{z} + Dl_{44} w_{x} + Dl_{45} w_{y} + Dl_{46} w_{z}\\\\Dl_{51} v_{x} + Dl_{52} v_{y} + Dl_{53} v_{z} + Dl_{54} w_{x} + Dl_{55} w_{y} + Dl_{56} w_{z}\\\\Dl_{61} v_{x} + Dl_{62} v_{y} + Dl_{63} v_{z} + Dl_{64} w_{x} + Dl_{65} w_{y} + Dl_{66} w_{z}\\end{matrix}\\right]$"
      ],
      "text/plain": [
       "Matrix([\n",
       "[Dl_11*v_x + Dl_12*v_y + Dl_13*v_z + Dl_14*w_x + Dl_15*w_y + Dl_16*w_z],\n",
       "[Dl_21*v_x + Dl_22*v_y + Dl_23*v_z + Dl_24*w_x + Dl_25*w_y + Dl_26*w_z],\n",
       "[Dl_31*v_x + Dl_32*v_y + Dl_33*v_z + Dl_34*w_x + Dl_35*w_y + Dl_36*w_z],\n",
       "[Dl_41*v_x + Dl_42*v_y + Dl_43*v_z + Dl_44*w_x + Dl_45*w_y + Dl_46*w_z],\n",
       "[Dl_51*v_x + Dl_52*v_y + Dl_53*v_z + Dl_54*w_x + Dl_55*w_y + Dl_56*w_z],\n",
       "[Dl_61*v_x + Dl_62*v_y + Dl_63*v_z + Dl_64*w_x + Dl_65*w_y + Dl_66*w_z]])"
      ]
     },
     "metadata": {},
     "output_type": "display_data"
    },
    {
     "name": "stdout",
     "output_type": "stream",
     "text": [
      "Restoring:\n"
     ]
    },
    {
     "data": {
      "text/latex": [
       "$\\displaystyle \\left[\\begin{matrix}- B \\left(- 2 q_{w} q_{y} + 2 q_{x} q_{z}\\right) + W \\left(- 2 q_{w} q_{y} + 2 q_{x} q_{z}\\right)\\\\- B \\left(2 q_{w} q_{x} + 2 q_{y} q_{z}\\right) + W \\left(2 q_{w} q_{x} + 2 q_{y} q_{z}\\right)\\\\- B \\left(q_{w}^{2} - q_{x}^{2} - q_{y}^{2} + q_{z}^{2}\\right) + W \\left(q_{w}^{2} - q_{x}^{2} - q_{y}^{2} + q_{z}^{2}\\right)\\\\- W z_{g} \\left(2 q_{w} q_{x} + 2 q_{y} q_{z}\\right)\\\\W z_{g} \\left(- 2 q_{w} q_{y} + 2 q_{x} q_{z}\\right)\\\\0\\end{matrix}\\right]$"
      ],
      "text/plain": [
       "Matrix([\n",
       "[                      -B*(-2*q_w*q_y + 2*q_x*q_z) + W*(-2*q_w*q_y + 2*q_x*q_z)],\n",
       "[                        -B*(2*q_w*q_x + 2*q_y*q_z) + W*(2*q_w*q_x + 2*q_y*q_z)],\n",
       "[-B*(q_w**2 - q_x**2 - q_y**2 + q_z**2) + W*(q_w**2 - q_x**2 - q_y**2 + q_z**2)],\n",
       "[                                                -W*z_g*(2*q_w*q_x + 2*q_y*q_z)],\n",
       "[                                                W*z_g*(-2*q_w*q_y + 2*q_x*q_z)],\n",
       "[                                                                             0]])"
      ]
     },
     "metadata": {},
     "output_type": "display_data"
    }
   ],
   "source": [
    "from sympy import *\n",
    "import numpy as np\n",
    "\n",
    "damping_mode = 'linear'#'quadratic'\n",
    "inertia_mode = 'full'\n",
    "\n",
    "# quaternion components\n",
    "qw,qx,qy,qz = symbols('q_w q_x q_y q_z')\n",
    "q = Quaternion.from_Matrix([qw, qx, qy, qz])\n",
    "# rotation matrix\n",
    "R = q.to_rotation_matrix()*(qw*qw+qx*qx+qy*qy+qz*qz)\n",
    "display(R)\n",
    "\n",
    "# linear and angular velocities\n",
    "v_x, v_y, v_z = symbols('v_x v_y v_z')\n",
    "w_x, w_y, w_z = symbols('w_x w_y w_z')\n",
    "v_lin = Matrix([v_x, v_y, v_z])\n",
    "v_ang = Matrix([w_x, w_y, w_z])\n",
    "V = Matrix([v_lin, v_ang])\n",
    "\n",
    "# linear and angular accelerations\n",
    "u_dot, v_dot, w_dot = symbols('\\dot{v_x} \\dot{v_y} \\dot{v_z}')\n",
    "p_dot, q_dot, r_dot = symbols('\\dot{w_x} \\dot{w_y} \\dot{w_z}')\n",
    "v1_dot = Matrix([u_dot, v_dot, w_dot])\n",
    "v2_dot = Matrix([p_dot, q_dot, r_dot])\n",
    "V_dot = Matrix([v1_dot,v2_dot])\n",
    "\n",
    "# Mass\n",
    "if inertia_mode == 'full':\n",
    "    M = Matrix(symbols([['M_%i%i'%(j,i) for i in range(1,7)] for j in range(1,7)]))\n",
    "else:\n",
    "    M = Matrix(np.diag([symbols('M_%i%i'%(i,i)) for i in range(1,7)]))\n",
    "display(M)\n",
    "\n",
    "inertia = M*V_dot\n",
    "\n",
    "\n",
    "def skew(v):\n",
    "    return Matrix([[0,-v[2],v[1]],\n",
    "                   [v[2],0,-v[0]],\n",
    "                   [-v[1],v[0],0]])\n",
    "\n",
    "M11 = M[:3,:3]\n",
    "M12 = M[:3,3:]\n",
    "M22 = M[3:,3:]\n",
    "M21 = M[3:,:3]\n",
    "\n",
    "# Coriolis\n",
    "C = Matrix([[zeros(3),-skew(M11*v_lin + M12*v_ang)],\n",
    "            [-skew(M11*v_lin + M12*v_ang),-skew(M21*v_lin + M22*v_ang)]])\n",
    "coriolis = C*V\n",
    "\n",
    "# Damping\n",
    "Dl = Matrix(symbols([['Dl_%i%i'%(j,i) for i in range(1,7)] for j in range(1,7)]))\n",
    "\n",
    "Du = Matrix(symbols([['Du_%i%i'%(j,i) for i in range(1,7)] for j in range(1,7)]))* \\\n",
    "    abs(v_x)\n",
    "Dv = Matrix(symbols([['Dv_%i%i'%(j,i) for i in range(1,7)] for j in range(1,7)]))* \\\n",
    "    abs(v_y)\n",
    "Dw = Matrix(symbols([['Dw_%i%i'%(j,i) for i in range(1,7)] for j in range(1,7)]))* \\\n",
    "    abs(v_z)\n",
    "Dp = Matrix(symbols([['Dp_%i%i'%(j,i) for i in range(1,7)] for j in range(1,7)]))* \\\n",
    "    abs(w_x)\n",
    "Dq = Matrix(symbols([['Dq_%i%i'%(j,i) for i in range(1,7)] for j in range(1,7)]))* \\\n",
    "    abs(w_y)\n",
    "Dr = Matrix(symbols([['Dr_%i%i'%(j,i) for i in range(1,7)] for j in range(1,7)]))* \\\n",
    "    abs(w_z)\n",
    "\n",
    "\n",
    "\n",
    "if damping_mode == 'linear':\n",
    "    damping = Dl*V\n",
    "elif damping_mode == 'quadratic':\n",
    "    damping = (Dl+Du+Dv+Dw+Dp+Dq+Dr)*V\n",
    "    \n",
    "\n",
    "# restoring\n",
    "B, W = symbols('B W') # bouyancy and weight\n",
    "xb,yb,zb = symbols('x_b y_b z_b')\n",
    "xg,yg,zg = symbols('x_g y_g z_g')\n",
    "rg = Matrix([0,0,zg]) # center of gravity\n",
    "rb = Matrix([0,0,0]) # center of buoyancy\n",
    "\n",
    "fb = R.T * Matrix([0,0,-B])\n",
    "fg = R.T * Matrix([0,0,W])\n",
    "\n",
    "b = Matrix([fg + fb, rg.cross(fg) + rb.cross(fb)])\n",
    "\n",
    "\n",
    "print('Mass*acc:')\n",
    "display(inertia)\n",
    "print('Coriolis matrix:')\n",
    "display(C)\n",
    "print('Coriolis effect:')\n",
    "display(coriolis)\n",
    "print('Damping:')\n",
    "display(damping)\n",
    "print('Restoring:')\n",
    "display(b)"
   ]
  },
  {
   "cell_type": "code",
   "execution_count": 20,
   "id": "9869fcb4",
   "metadata": {},
   "outputs": [
    {
     "data": {
      "text/latex": [
       "$\\displaystyle \\left[\\begin{matrix}f \\cos{\\left(\\alpha \\right)} \\cos{\\left(\\beta \\right)}\\\\f \\sin{\\left(\\alpha \\right)} \\cos{\\left(\\beta \\right)}\\\\- f \\sin{\\left(\\beta \\right)}\\\\0\\\\f x_{f} \\sin{\\left(\\beta \\right)}\\\\f x_{f} \\sin{\\left(\\alpha \\right)} \\cos{\\left(\\beta \\right)}\\end{matrix}\\right]$"
      ],
      "text/plain": [
       "Matrix([\n",
       "[    f*cos(alpha)*cos(beta)],\n",
       "[    f*sin(alpha)*cos(beta)],\n",
       "[              -f*sin(beta)],\n",
       "[                         0],\n",
       "[           f*x_f*sin(beta)],\n",
       "[f*x_f*sin(alpha)*cos(beta)]])"
      ]
     },
     "metadata": {},
     "output_type": "display_data"
    }
   ],
   "source": [
    "# thruster wrench\n",
    "force = rot_axis3(-Symbol('alpha'))*rot_axis2(-Symbol('beta'))*Matrix([Symbol('f'),0,0])\n",
    "r_f = Matrix([Symbol('x_f'),0,0])\n",
    "torque = r_f.cross(force)\n",
    "wrench = Matrix([force, torque])\n",
    "display(wrench)"
   ]
  },
  {
   "cell_type": "code",
   "execution_count": 27,
   "id": "f21d3fa2-25bf-4187-91e5-16d97a121c47",
   "metadata": {},
   "outputs": [
    {
     "data": {
      "text/latex": [
       "$\\displaystyle \\sqrt{\\left|{X_{E1} \\sin{\\left(\\beta \\right)} + Z_{B1} - Z_{E1} \\cos{\\left(\\beta \\right)}}\\right|^{2} + \\left|{X_{B1} - X_{E1} \\cos{\\left(\\alpha \\right)} \\cos{\\left(\\beta \\right)} + Y_{E1} \\sin{\\left(\\alpha \\right)} - Z_{E1} \\sin{\\left(\\beta \\right)} \\cos{\\left(\\alpha \\right)}}\\right|^{2} + \\left|{X_{E1} \\sin{\\left(\\alpha \\right)} \\cos{\\left(\\beta \\right)} - Y_{B1} + Y_{E1} \\cos{\\left(\\alpha \\right)} + Z_{E1} \\sin{\\left(\\alpha \\right)} \\sin{\\left(\\beta \\right)}}\\right|^{2}}$"
      ],
      "text/plain": [
       "sqrt(Abs(X_{E1}*sin(beta) + Z_{B1} - Z_{E1}*cos(beta))**2 + Abs(X_{B1} - X_{E1}*cos(alpha)*cos(beta) + Y_{E1}*sin(alpha) - Z_{E1}*sin(beta)*cos(alpha))**2 + Abs(X_{E1}*sin(alpha)*cos(beta) - Y_{B1} + Y_{E1}*cos(alpha) + Z_{E1}*sin(alpha)*sin(beta))**2)"
      ]
     },
     "metadata": {},
     "output_type": "display_data"
    },
    {
     "data": {
      "text/latex": [
       "$\\displaystyle \\sqrt{\\left|{X_{E2} \\sin{\\left(\\beta \\right)} + Z_{B2} - Z_{E2} \\cos{\\left(\\beta \\right)}}\\right|^{2} + \\left|{X_{B2} - X_{E2} \\cos{\\left(\\alpha \\right)} \\cos{\\left(\\beta \\right)} + Y_{E2} \\sin{\\left(\\alpha \\right)} - Z_{E2} \\sin{\\left(\\beta \\right)} \\cos{\\left(\\alpha \\right)}}\\right|^{2} + \\left|{X_{E2} \\sin{\\left(\\alpha \\right)} \\cos{\\left(\\beta \\right)} - Y_{B2} + Y_{E2} \\cos{\\left(\\alpha \\right)} + Z_{E2} \\sin{\\left(\\alpha \\right)} \\sin{\\left(\\beta \\right)}}\\right|^{2}}$"
      ],
      "text/plain": [
       "sqrt(Abs(X_{E2}*sin(beta) + Z_{B2} - Z_{E2}*cos(beta))**2 + Abs(X_{B2} - X_{E2}*cos(alpha)*cos(beta) + Y_{E2}*sin(alpha) - Z_{E2}*sin(beta)*cos(alpha))**2 + Abs(X_{E2}*sin(alpha)*cos(beta) - Y_{B2} + Y_{E2}*cos(alpha) + Z_{E2}*sin(alpha)*sin(beta))**2)"
      ]
     },
     "metadata": {},
     "output_type": "display_data"
    }
   ],
   "source": [
    "# parallel machanism\n",
    "RotMat = rot_axis3(-Symbol('alpha'))*rot_axis2(-Symbol('beta'))\n",
    "e1_ee = Matrix([Symbol('X_{E1}'), Symbol('Y_{E1}'), Symbol('Z_{E1}')])\n",
    "e2_ee = Matrix([Symbol('X_{E2}'), Symbol('Y_{E2}'), Symbol('Z_{E2}')])\n",
    "b1 = Matrix([Symbol('X_{B1}'), Symbol('Y_{B1}'), Symbol('Z_{B1}')])\n",
    "b2 = Matrix([Symbol('X_{B2}'), Symbol('Y_{B2}'), Symbol('Z_{B2}')])\n",
    "\n",
    "e1 = RotMat*e1_ee\n",
    "e2 = RotMat*e2_ee\n",
    "\n",
    "b1e1 = e1 - b1\n",
    "b2e2 = e2 - b2\n",
    "\n",
    "d1 = b1e1.norm()\n",
    "d2 = b2e2.norm()\n",
    "\n",
    "display(d1)\n",
    "display(d2)"
   ]
  },
  {
   "cell_type": "code",
   "execution_count": 3,
   "id": "1b15391e",
   "metadata": {},
   "outputs": [
    {
     "name": "stdout",
     "output_type": "stream",
     "text": [
      "quaternion error represented as another quaternion\n"
     ]
    },
    {
     "data": {
      "text/latex": [
       "$\\displaystyle \\left(q_{w} q^{d}_{w} + q_{x} q^{d}_{x} + q_{y} q^{d}_{y} + q_{z} q^{d}_{z}\\right) + \\left(q_{w} q^{d}_{x} - q^{d}_{w} q_{x} + q_{y} q^{d}_{z} - q^{d}_{y} q_{z}\\right) i + \\left(q_{w} q^{d}_{y} - q^{d}_{w} q_{y} - q_{x} q^{d}_{z} + q^{d}_{x} q_{z}\\right) j + \\left(q_{w} q^{d}_{z} - q^{d}_{w} q_{z} + q_{x} q^{d}_{y} - q^{d}_{x} q_{y}\\right) k$"
      ],
      "text/plain": [
       "(q_w*q_w^d + q_x*q_x^d + q_y*q_y^d + q_z*q_z^d) + (q_w*q_x^d - q_w^d*q_x + q_y*q_z^d - q_y^d*q_z)*i + (q_w*q_y^d - q_w^d*q_y - q_x*q_z^d + q_x^d*q_z)*j + (q_w*q_z^d - q_w^d*q_z + q_x*q_y^d - q_x^d*q_y)*k"
      ]
     },
     "metadata": {},
     "output_type": "display_data"
    },
    {
     "name": "stdout",
     "output_type": "stream",
     "text": [
      "scalar distance\n"
     ]
    },
    {
     "data": {
      "text/latex": [
       "$\\displaystyle 1 - \\left(q_{w} q^{d}_{w} + q_{x} q^{d}_{x} + q_{y} q^{d}_{y} + q_{z} q^{d}_{z}\\right)^{2}$"
      ],
      "text/plain": [
       "1 - (q_w*q_w^d + q_x*q_x^d + q_y*q_y^d + q_z*q_z^d)**2"
      ]
     },
     "metadata": {},
     "output_type": "display_data"
    }
   ],
   "source": [
    "# Quaternion Error\n",
    "symbols('q_w q_x q_y q_z')\n",
    "qd = Quaternion.from_Matrix(symbols('q_w^d q_x^d q_y^d q_z^d'))\n",
    "\n",
    "print('quaternion error represented as another quaternion')\n",
    "display((qd.mul(q.inverse())*q.norm()**2).simplify())\n",
    "\n",
    "# scalar error between two quaternions\n",
    "# according to https://math.stackexchange.com/questions/90081/quaternion-distance\n",
    "print('scalar distance')\n",
    "display(1 - (q.to_Matrix().T*qd.to_Matrix())[0]**2)"
   ]
  },
  {
   "cell_type": "code",
   "execution_count": null,
   "id": "3ba60c6d",
   "metadata": {},
   "outputs": [],
   "source": []
  },
  {
   "cell_type": "code",
   "execution_count": null,
   "id": "3605fb5f",
   "metadata": {
    "tags": []
   },
   "outputs": [],
   "source": []
  },
  {
   "cell_type": "code",
   "execution_count": null,
   "id": "be122a17",
   "metadata": {},
   "outputs": [],
   "source": []
  }
 ],
 "metadata": {
  "kernelspec": {
   "display_name": "Python 3 (ipykernel)",
   "language": "python",
   "name": "python3"
  },
  "language_info": {
   "codemirror_mode": {
    "name": "ipython",
    "version": 3
   },
   "file_extension": ".py",
   "mimetype": "text/x-python",
   "name": "python",
   "nbconvert_exporter": "python",
   "pygments_lexer": "ipython3",
   "version": "3.8.10"
  },
  "vscode": {
   "interpreter": {
    "hash": "916dbcbb3f70747c44a77c7bcd40155683ae19c65e1c03b4aa3499c5328201f1"
   }
  }
 },
 "nbformat": 4,
 "nbformat_minor": 5
}
